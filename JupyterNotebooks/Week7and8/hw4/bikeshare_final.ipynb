{
 "cells": [
  {
   "cell_type": "markdown",
   "id": "victorian-latitude",
   "metadata": {},
   "source": [
    "# Bike Share System"
   ]
  },
  {
   "cell_type": "markdown",
   "id": "imported-table",
   "metadata": {
    "tags": []
   },
   "source": [
    "*Modeling and Simulation in Python*\n",
    "\n",
    "Copyright 2021 Allen Downey\n",
    "\n",
    "License: [Creative Commons Attribution-NonCommercial-ShareAlike 4.0 International](https://creativecommons.org/licenses/by-nc-sa/4.0/)"
   ]
  },
  {
   "cell_type": "code",
   "execution_count": 1,
   "id": "electoral-turkey",
   "metadata": {
    "tags": [],
    "ExecuteTime": {
     "end_time": "2023-11-06T18:51:46.891150Z",
     "start_time": "2023-11-06T18:51:41.833780500Z"
    }
   },
   "outputs": [],
   "source": [
    "# import functions from modsim\n",
    "from modsim import *"
   ]
  },
  {
   "cell_type": "code",
   "execution_count": 2,
   "id": "formal-context",
   "metadata": {
    "tags": [],
    "ExecuteTime": {
     "end_time": "2023-11-06T18:51:46.909432Z",
     "start_time": "2023-11-06T18:51:46.891150Z"
    }
   },
   "outputs": [],
   "source": [
    "def step(state, p1, p2):\n",
    "    \"\"\"Simulate one time step.\n",
    "    \n",
    "    state: bikeshare State object\n",
    "    p1: probability of an Olin->Wellesley ride\n",
    "    p2: probability of a Wellesley->Olin ride\n",
    "    \"\"\"\n",
    "    if flip(p1):\n",
    "        bike_to_wellesley(state)\n",
    "    \n",
    "    if flip(p2):\n",
    "        bike_to_olin(state)\n",
    "        \n",
    "def bike_to_olin(state):\n",
    "    \"\"\"Move one bike from Wellesley to Olin.\n",
    "    \n",
    "    state: bikeshare State object\n",
    "    \"\"\"\n",
    "    if state.wellesley == 0:\n",
    "        state.wellesley_empty += 1\n",
    "        return\n",
    "    state.wellesley -= 1\n",
    "    state.olin += 1\n",
    "    \n",
    "def bike_to_wellesley(state):\n",
    "    \"\"\"Move one bike from Olin to Wellesley.\n",
    "    \n",
    "    state: bikeshare State object\n",
    "    \"\"\"\n",
    "    \n",
    "    if state.olin == 0:\n",
    "        state.olin_empty += 1\n",
    "        return\n",
    "    state.olin -= 1\n",
    "    state.wellesley += 1"
   ]
  },
  {
   "cell_type": "code",
   "execution_count": 3,
   "id": "progressive-typing",
   "metadata": {
    "tags": [],
    "ExecuteTime": {
     "end_time": "2023-11-06T18:51:46.950521Z",
     "start_time": "2023-11-06T18:51:46.916785900Z"
    }
   },
   "outputs": [],
   "source": [
    "def run_simulation(state, p1, p2, num_steps, do_plot=True):\n",
    "    \"\"\"Simulate the given number of time steps.\n",
    "    \n",
    "    state: State object\n",
    "    p1: probability of an Olin->Wellesley customer arrival\n",
    "    p2: probability of a Wellesley->Olin customer arrival\n",
    "    num_steps: number of time steps\n",
    "    \"\"\"\n",
    "    results_olin = TimeSeries()\n",
    "    results_olin[0] = state.olin\n",
    "    results_wellesley = TimeSeries()\n",
    "    results_wellesley[0] = state.wellesley\n",
    "    results_olin_unsatisfied = TimeSeries()\n",
    "    results_olin_unsatisfied[0] = state.olin_empty\n",
    "    results_wellesley_unsatisfied = TimeSeries()\n",
    "    results_wellesley_unsatisfied[0] = state.wellesley_empty\n",
    "    \n",
    "    for i in range(num_steps):\n",
    "        step(state, p1, p2)\n",
    "        results_olin[i+1] = state.olin\n",
    "        results_wellesley[i+1] = state.wellesley\n",
    "        results_olin_unsatisfied[i+1] = state.olin_empty\n",
    "        results_wellesley_unsatisfied[i+1] = state.wellesley_empty\n",
    "        \n",
    "    if (do_plot):\n",
    "        fig, ax = plt.subplots(1,2,figsize=(12,6))\n",
    "        ax[0].plot(results_olin, label='Olin')\n",
    "        ax[0].plot(results_wellesley, label='Wellesley')\n",
    "        ax[0].set_xlabel('Time step (min)')\n",
    "        ax[0].set_ylabel('Number of bikes')\n",
    "        ax[0].legend()\n",
    "        ax[1].plot(results_olin_unsatisfied, label='Olin')\n",
    "        ax[1].plot(results_wellesley_unsatisfied, label='Wellesley')\n",
    "        ax[1].set_xlabel('Time step (min)')\n",
    "        ax[1].set_ylabel('Number of unsatisfied customers')\n",
    "        ax[1].legend()\n",
    "        plt.show()\n",
    "    \n",
    "    return results_olin_unsatisfied[num_steps-1] + results_wellesley_unsatisfied[num_steps-1]"
   ]
  },
  {
   "cell_type": "code",
   "execution_count": 4,
   "outputs": [
    {
     "name": "stdout",
     "output_type": "stream",
     "text": [
      "0 12\n",
      "Average unsatisfied customers:  3.87\n",
      "1 11\n",
      "Average unsatisfied customers:  3.52\n",
      "2 10\n",
      "Average unsatisfied customers:  3.63\n",
      "3 9\n",
      "Average unsatisfied customers:  4.16\n",
      "4 8\n",
      "Average unsatisfied customers:  3.92\n",
      "5 7\n",
      "Average unsatisfied customers:  4.59\n",
      "6 6\n",
      "Average unsatisfied customers:  6.09\n",
      "7 5\n",
      "Average unsatisfied customers:  5.8\n",
      "8 4\n",
      "Average unsatisfied customers:  7.58\n",
      "9 3\n",
      "Average unsatisfied customers:  7.93\n",
      "10 2\n",
      "Average unsatisfied customers:  9.36\n",
      "11 1\n",
      "Average unsatisfied customers:  9.76\n",
      "12 0\n",
      "Average unsatisfied customers:  10.88\n"
     ]
    }
   ],
   "source": [
    "p_olin_to_wellesley = 0.3\n",
    "p_wellesley_to_olin = 0.2\n",
    "\n",
    "N_slots = 12\n",
    "\n",
    "nstart = []\n",
    "tu_avg = []\n",
    "\n",
    "num_sims = 100\n",
    "\n",
    "for N_start_olin in range(N_slots+1):\n",
    "    nstart.append(N_start_olin)\n",
    "    N_start_wellesley = N_slots - N_start_olin\n",
    "\n",
    "    print(N_start_olin, N_start_wellesley)\n",
    "\n",
    "    tu_sum = 0\n",
    "    \n",
    "    for j in range(num_sims):\n",
    "        bikeshare = State(olin=N_start_olin, wellesley=N_start_wellesley,\n",
    "                  olin_empty=0, wellesley_empty=0)\n",
    "        do_plot = False\n",
    "        total_unsatisfied = run_simulation(bikeshare, p_wellesley_to_olin, p_olin_to_wellesley, 100, do_plot)\n",
    "\n",
    "        #print(\"Total unsatisfied customers: \", j, total_unsatisfied)\n",
    "        tu_sum += total_unsatisfied\n",
    "    \n",
    "    print(\"Average unsatisfied customers: \", tu_sum/(1.0*num_sims))\n",
    "    tu_avg.append(tu_sum/(1.0*num_sims))\n",
    "    \n"
   ],
   "metadata": {
    "collapsed": false,
    "ExecuteTime": {
     "end_time": "2023-11-06T18:53:56.942004700Z",
     "start_time": "2023-11-06T18:51:46.937955500Z"
    }
   },
   "id": "760647dfb2ea5d9f"
  },
  {
   "cell_type": "code",
   "execution_count": 5,
   "outputs": [
    {
     "data": {
      "text/plain": "<matplotlib.legend.Legend at 0x289b1f10730>"
     },
     "execution_count": 5,
     "metadata": {},
     "output_type": "execute_result"
    },
    {
     "data": {
      "text/plain": "<Figure size 600x600 with 1 Axes>",
      "image/png": "[encoded data removed]"
     },
     "metadata": {},
     "output_type": "display_data"
    }
   ],
   "source": [
    "tu_avg_error = 0.1*np.array(tu_avg)\n",
    "\n",
    "fig, ax = plt.subplots(1,1,figsize=(8,8))\n",
    "ax.errorbar(nstart, tu_avg, tu_avg_error, label='Average unsatisfied customers')\n",
    "ax.set_xlabel('Number of starting bikes at Olin')\n",
    "ax.set_ylabel('Average number of unsatisfied customers')\n",
    "ax.legend()"
   ],
   "metadata": {
    "collapsed": false,
    "ExecuteTime": {
     "end_time": "2023-11-06T18:53:57.455480800Z",
     "start_time": "2023-11-06T18:53:56.950160600Z"
    }
   },
   "id": "5cdc15f29e14c6d1"
  },
  {
   "cell_type": "markdown",
   "source": [],
   "metadata": {
    "collapsed": false
   },
   "id": "8618a00660b30f10"
  },
  {
   "cell_type": "markdown",
   "id": "above-denial",
   "metadata": {},
   "source": [
    "## Modeling a Bike Share System\n",
    "\n",
    "Imagine a bike share system for students traveling between Olin College and Wellesley College, which are about three miles apart in eastern Massachusetts.\n",
    "\n",
    "Suppose the system contains 12 bikes and two bike racks, one at Olin and one at Wellesley, each with the capacity to hold 12 bikes.\n",
    "\n",
    "As students arrive, check out a bike, and ride to the other campus, the number of bikes in each location changes. In the simulation, we'll need to keep track of where the bikes are. To do that, we'll use a function called `State`, which is defined in the ModSim library."
   ]
  },
  {
   "cell_type": "code",
   "execution_count": 5,
   "id": "incorrect-comparison",
   "metadata": {
    "ExecuteTime": {
     "end_time": "2023-11-06T18:53:57.551715500Z",
     "start_time": "2023-11-06T18:53:57.447481900Z"
    }
   },
   "outputs": [],
   "source": []
  },
  {
   "cell_type": "markdown",
   "id": "living-wayne",
   "metadata": {},
   "source": []
  },
  {
   "cell_type": "markdown",
   "source": [
    "## Modeling a system with 3 locations"
   ],
   "metadata": {
    "collapsed": false
   },
   "id": "92a2943d1f99d991"
  },
  {
   "cell_type": "code",
   "execution_count": 6,
   "id": "designed-brazilian",
   "metadata": {
    "ExecuteTime": {
     "end_time": "2023-11-06T18:53:57.551715500Z",
     "start_time": "2023-11-06T18:53:57.463479800Z"
    }
   },
   "outputs": [],
   "source": [
    "n_bike = 100\n",
    "p_AB = 0.3\n",
    "p_BA = 0.2\n",
    "p_AC = 0.4\n",
    "p_CA = 0.1\n",
    "p_BC = 0.35\n",
    "p_CB = 0.15"
   ]
  },
  {
   "cell_type": "code",
   "execution_count": 7,
   "outputs": [],
   "source": [
    "def step2(state):\n",
    "    if flip(p_AB):\n",
    "        bike_A_B(state)\n",
    "    \n",
    "    if flip(p_BA):\n",
    "        bike_B_A(state)\n",
    "        \n",
    "    if flip(p_AC):\n",
    "        bike_A_C(state)\n",
    "    \n",
    "    if flip(p_CA):\n",
    "        bike_C_A(state)\n",
    "        \n",
    "    if flip(p_BC):\n",
    "        bike_B_C(state)\n",
    "    \n",
    "    if flip(p_CB):\n",
    "        bike_C_B(state)\n",
    "\n",
    "\n",
    "def bike_A_B(state):\n",
    "    \n",
    "    if state.A == 0:\n",
    "        state.A_empty += 1\n",
    "        return\n",
    "    state.A -= 1\n",
    "    state.B += 1\n",
    "    \n",
    "    \n",
    "def bike_B_A(state):\n",
    "    \n",
    "    if state.B == 0:\n",
    "        state.B_empty += 1\n",
    "        return\n",
    "    state.B -= 1\n",
    "    state.A += 1\n",
    "    \n",
    "    \n",
    "def bike_A_C(state):\n",
    "    \n",
    "    if state.A == 0:\n",
    "        state.A_empty += 1\n",
    "        return\n",
    "    state.A -= 1\n",
    "    state.C += 1\n",
    "    \n",
    "    \n",
    "def bike_C_A(state):\n",
    "    \n",
    "    if state.C == 0:\n",
    "        state.C_empty += 1\n",
    "        return\n",
    "    state.C -= 1\n",
    "    state.A += 1\n",
    "    \n",
    "\n",
    "def bike_B_C(state):\n",
    "    \n",
    "    if state.B == 0:\n",
    "        state.B_empty += 1\n",
    "        return\n",
    "    state.B -= 1\n",
    "    state.C += 1\n",
    "    \n",
    "\n",
    "def bike_C_B(state):\n",
    "    \n",
    "    if state.C == 0:\n",
    "        state.C_empty += 1\n",
    "        return\n",
    "    state.C -= 1\n",
    "    state.B += 1"
   ],
   "metadata": {
    "collapsed": false,
    "ExecuteTime": {
     "end_time": "2023-11-06T18:53:57.551715500Z",
     "start_time": "2023-11-06T18:53:57.487741500Z"
    }
   },
   "id": "924276d0db1c797c"
  },
  {
   "cell_type": "code",
   "execution_count": 16,
   "outputs": [],
   "source": [
    "def run_simulation2(state, num_steps, do_plot=True):\n",
    "    \"\"\"Simulate the given number of time steps.\n",
    "    \n",
    "    state: State object\n",
    "    p1: probability of an Olin->Wellesley customer arrival\n",
    "    p2: probability of a Wellesley->Olin customer arrival\n",
    "    num_steps: number of time steps\n",
    "    \"\"\"\n",
    "    results_A = TimeSeries()\n",
    "    results_A[0] = state.A\n",
    "    results_B = TimeSeries()\n",
    "    results_B[0] = state.B\n",
    "    results_C = TimeSeries()\n",
    "    results_C[0] = state.C\n",
    "    results_A_unsatisfied = TimeSeries()\n",
    "    results_A_unsatisfied[0] = state.A_empty\n",
    "    results_B_unsatisfied = TimeSeries()\n",
    "    results_B_unsatisfied[0] = state.B_empty\n",
    "    results_C_unsatisfied = TimeSeries()\n",
    "    results_C_unsatisfied[0] = state.C_empty\n",
    "    \n",
    "    for i in range(num_steps):\n",
    "        step2(state)\n",
    "        results_A[i+1] = state.A\n",
    "        results_B[i+1] = state.B\n",
    "        results_C[i+1] = state.C\n",
    "        results_A_unsatisfied[i+1] = state.A_empty\n",
    "        results_B_unsatisfied[i+1] = state.B_empty\n",
    "        results_C_unsatisfied[i+1] = state.C_empty\n",
    "        \n",
    "    if (do_plot):\n",
    "        fig, ax = plt.subplots(1,3,figsize=(12,6))\n",
    "        ax[0].plot(results_A, label='A')\n",
    "        ax[0].plot(results_B, label='B')\n",
    "        ax[0].plot(results_C, label='C')\n",
    "        ax[0].set_xlabel('Time step (min)')\n",
    "        ax[0].set_ylabel('Number of bikes')\n",
    "        ax[0].legend()\n",
    "        ax[1].plot(results_A_unsatisfied, label='A')\n",
    "        ax[1].plot(results_B_unsatisfied, label='B')\n",
    "        ax[1].plot(results_C_unsatisfied, label='C')\n",
    "        ax[1].set_xlabel('Time step (min)')\n",
    "        ax[1].set_ylabel('Number of unsatisfied customers')\n",
    "        ax[1].legend()\n",
    "        plt.show()\n",
    "    \n",
    "    return results_A_unsatisfied[num_steps-1] + results_B_unsatisfied[num_steps-1] + results_C_unsatisfied[num_steps-1]"
   ],
   "metadata": {
    "collapsed": false,
    "ExecuteTime": {
     "end_time": "2023-11-06T18:56:28.728898100Z",
     "start_time": "2023-11-06T18:56:28.650941600Z"
    }
   },
   "id": "73f40a0fc103cc35"
  },
  {
   "cell_type": "code",
   "execution_count": 17,
   "outputs": [
    {
     "name": "stdout",
     "output_type": "stream",
     "text": [
      "0 0\n",
      "Average unsatisfied customers:  85.11\n",
      "0 1\n",
      "Average unsatisfied customers:  67.47\n",
      "0 2\n",
      "Average unsatisfied customers:  54.97\n",
      "0 3\n",
      "Average unsatisfied customers:  41.66\n",
      "0 4\n",
      "Average unsatisfied customers:  40.46\n",
      "0 5\n",
      "Average unsatisfied customers:  39.84\n",
      "0 6\n",
      "Average unsatisfied customers:  40.71\n",
      "0 7\n",
      "Average unsatisfied customers:  39.7\n",
      "0 8\n",
      "Average unsatisfied customers:  40.41\n",
      "0 9\n",
      "Average unsatisfied customers:  39.73\n",
      "0 10\n",
      "Average unsatisfied customers:  41.23\n",
      "1 0\n",
      "Average unsatisfied customers:  65.78\n",
      "1 1\n",
      "Average unsatisfied customers:  51.18\n",
      "1 2\n",
      "Average unsatisfied customers:  40.39\n",
      "1 3\n",
      "Average unsatisfied customers:  33.02\n",
      "1 4\n",
      "Average unsatisfied customers:  29.06\n",
      "1 5\n",
      "Average unsatisfied customers:  30.49\n",
      "1 6\n",
      "Average unsatisfied customers:  29.91\n",
      "1 7\n",
      "Average unsatisfied customers:  28.99\n",
      "1 8\n",
      "Average unsatisfied customers:  29.43\n",
      "1 9\n",
      "Average unsatisfied customers:  29.73\n",
      "2 0\n",
      "Average unsatisfied customers:  51.0\n",
      "2 1\n",
      "Average unsatisfied customers:  33.76\n",
      "2 2\n",
      "Average unsatisfied customers:  24.36\n",
      "2 3\n",
      "Average unsatisfied customers:  21.5\n",
      "2 4\n",
      "Average unsatisfied customers:  20.53\n",
      "2 5\n",
      "Average unsatisfied customers:  18.37\n",
      "2 6\n",
      "Average unsatisfied customers:  18.78\n",
      "2 7\n",
      "Average unsatisfied customers:  21.76\n",
      "2 8\n",
      "Average unsatisfied customers:  21.09\n",
      "3 0\n",
      "Average unsatisfied customers:  32.48\n",
      "3 1\n",
      "Average unsatisfied customers:  20.46\n",
      "3 2\n",
      "Average unsatisfied customers:  11.87\n",
      "3 3\n",
      "Average unsatisfied customers:  10.16\n",
      "3 4\n",
      "Average unsatisfied customers:  10.51\n",
      "3 5\n",
      "Average unsatisfied customers:  11.19\n",
      "3 6\n",
      "Average unsatisfied customers:  10.58\n",
      "3 7\n",
      "Average unsatisfied customers:  10.51\n",
      "4 0\n",
      "Average unsatisfied customers:  18.19\n",
      "4 1\n",
      "Average unsatisfied customers:  7.32\n",
      "4 2\n",
      "Average unsatisfied customers:  3.63\n",
      "4 3\n",
      "Average unsatisfied customers:  3.58\n",
      "4 4\n",
      "Average unsatisfied customers:  3.41\n",
      "4 5\n",
      "Average unsatisfied customers:  3.64\n",
      "4 6\n",
      "Average unsatisfied customers:  3.51\n",
      "5 0\n",
      "Average unsatisfied customers:  14.08\n",
      "5 1\n",
      "Average unsatisfied customers:  4.5\n",
      "5 2\n",
      "Average unsatisfied customers:  0.82\n",
      "5 3\n",
      "Average unsatisfied customers:  0.37\n",
      "5 4\n",
      "Average unsatisfied customers:  0.3\n",
      "5 5\n",
      "Average unsatisfied customers:  1.01\n",
      "6 0\n",
      "Average unsatisfied customers:  13.56\n",
      "6 1\n",
      "Average unsatisfied customers:  3.77\n",
      "6 2\n",
      "Average unsatisfied customers:  0.49\n",
      "6 3\n",
      "Average unsatisfied customers:  0.04\n",
      "6 4\n",
      "Average unsatisfied customers:  0.24\n",
      "7 0\n",
      "Average unsatisfied customers:  11.5\n",
      "7 1\n",
      "Average unsatisfied customers:  3.88\n",
      "7 2\n",
      "Average unsatisfied customers:  0.57\n",
      "7 3\n",
      "Average unsatisfied customers:  0.54\n",
      "8 0\n",
      "Average unsatisfied customers:  13.45\n",
      "8 1\n",
      "Average unsatisfied customers:  3.51\n",
      "8 2\n",
      "Average unsatisfied customers:  1.18\n",
      "9 0\n",
      "Average unsatisfied customers:  12.59\n",
      "9 1\n",
      "Average unsatisfied customers:  4.88\n",
      "10 0\n",
      "Average unsatisfied customers:  12.78\n"
     ]
    }
   ],
   "source": [
    "nstart = []\n",
    "tu_avg = []\n",
    "\n",
    "N_slots = 100\n",
    "\n",
    "num_sims = 180\n",
    "\n",
    "for N_start_A in range(11):\n",
    "    for N_start_B in range(11-N_start_A):\n",
    "        nstart.append(N_start_A*10)\n",
    "        N_start_C = N_slots - N_start_A*10 - N_start_B*10\n",
    "\n",
    "        print(N_start_A*10, N_start_B*10, N_start_C)\n",
    "\n",
    "        tu_sum = 0\n",
    "    \n",
    "        for j in range(num_sims):\n",
    "            bikeshare2 = State(A=N_start_A*10, B=N_start_B*10,C=N_start_C,\n",
    "                  A_empty=0, B_empty=0, C_empty=0)\n",
    "            do_plot = False\n",
    "            total_unsatisfied = run_simulation2(bikeshare2, 100, do_plot)\n",
    "\n",
    "        #print(\"Total unsatisfied customers: \", j, total_unsatisfied)\n",
    "            tu_sum += total_unsatisfied\n",
    "    \n",
    "        print(\"Average unsatisfied customers: \", tu_sum/(1.0*num_sims))\n",
    "        tu_avg.append(tu_sum/(1.0*num_sims))\n",
    "    "
   ],
   "metadata": {
    "collapsed": false,
    "ExecuteTime": {
     "end_time": "2023-11-06T19:15:41.029019700Z",
     "start_time": "2023-11-06T18:56:29.375311Z"
    }
   },
   "id": "87df236a08cf8577"
  },
  {
   "cell_type": "markdown",
   "id": "phantom-oklahoma",
   "metadata": {},
   "source": []
  },
  {
   "cell_type": "markdown",
   "source": [
    "The optimal configuration seems to be 60 at A, 40 at B, and 0 at C"
   ],
   "metadata": {
    "collapsed": false
   },
   "id": "9a28b02c687bff1d"
  },
  {
   "cell_type": "markdown",
   "id": "difficult-construction",
   "metadata": {},
   "source": []
  },
  {
   "cell_type": "code",
   "execution_count": null,
   "id": "played-character",
   "metadata": {
    "ExecuteTime": {
     "start_time": "2023-11-06T18:53:58.493164500Z"
    }
   },
   "outputs": [],
   "source": []
  },
  {
   "cell_type": "markdown",
   "id": "standard-party",
   "metadata": {},
   "source": []
  },
  {
   "cell_type": "code",
   "execution_count": null,
   "id": "ecological-colon",
   "metadata": {
    "ExecuteTime": {
     "end_time": "2023-11-06T18:53:58.509736500Z",
     "start_time": "2023-11-06T18:53:58.493164500Z"
    }
   },
   "outputs": [],
   "source": []
  },
  {
   "cell_type": "markdown",
   "id": "amateur-exposure",
   "metadata": {},
   "source": []
  },
  {
   "cell_type": "code",
   "execution_count": null,
   "id": "mediterranean-german",
   "metadata": {
    "ExecuteTime": {
     "start_time": "2023-11-06T18:53:58.501367Z"
    }
   },
   "outputs": [],
   "source": []
  },
  {
   "cell_type": "markdown",
   "id": "sought-mobile",
   "metadata": {},
   "source": []
  },
  {
   "cell_type": "markdown",
   "id": "organic-proportion",
   "metadata": {},
   "source": []
  },
  {
   "cell_type": "code",
   "execution_count": null,
   "id": "hollywood-shopping",
   "metadata": {
    "ExecuteTime": {
     "start_time": "2023-11-06T18:53:58.509736500Z"
    }
   },
   "outputs": [],
   "source": []
  },
  {
   "cell_type": "markdown",
   "id": "encouraging-arkansas",
   "metadata": {},
   "source": []
  },
  {
   "cell_type": "code",
   "execution_count": null,
   "id": "buried-alert",
   "metadata": {
    "ExecuteTime": {
     "start_time": "2023-11-06T18:53:58.509736500Z"
    }
   },
   "outputs": [],
   "source": []
  },
  {
   "cell_type": "markdown",
   "id": "aggregate-dynamics",
   "metadata": {},
   "source": []
  },
  {
   "cell_type": "code",
   "execution_count": null,
   "id": "recognized-denmark",
   "metadata": {
    "ExecuteTime": {
     "end_time": "2023-11-06T18:53:58.638183700Z",
     "start_time": "2023-11-06T18:53:58.517227100Z"
    }
   },
   "outputs": [],
   "source": []
  },
  {
   "cell_type": "markdown",
   "id": "raised-museum",
   "metadata": {},
   "source": []
  },
  {
   "cell_type": "markdown",
   "id": "scenic-african",
   "metadata": {},
   "source": []
  },
  {
   "cell_type": "code",
   "execution_count": null,
   "id": "polish-river",
   "metadata": {
    "ExecuteTime": {
     "start_time": "2023-11-06T18:53:58.517227100Z"
    }
   },
   "outputs": [],
   "source": []
  },
  {
   "cell_type": "markdown",
   "id": "compatible-conspiracy",
   "metadata": {},
   "source": []
  },
  {
   "cell_type": "markdown",
   "id": "breeding-groove",
   "metadata": {},
   "source": []
  },
  {
   "cell_type": "code",
   "execution_count": null,
   "outputs": [],
   "source": [],
   "metadata": {
    "collapsed": false,
    "ExecuteTime": {
     "start_time": "2023-11-06T18:53:58.525472800Z"
    }
   },
   "id": "8f318e6f58ef96c"
  },
  {
   "cell_type": "code",
   "execution_count": null,
   "id": "every-consultation",
   "metadata": {
    "ExecuteTime": {
     "start_time": "2023-11-06T18:53:58.533631200Z"
    }
   },
   "outputs": [],
   "source": []
  },
  {
   "cell_type": "markdown",
   "id": "cross-sharp",
   "metadata": {},
   "source": []
  },
  {
   "cell_type": "code",
   "execution_count": null,
   "id": "changing-planet",
   "metadata": {
    "ExecuteTime": {
     "start_time": "2023-11-06T18:53:58.538757800Z"
    }
   },
   "outputs": [],
   "source": []
  },
  {
   "cell_type": "markdown",
   "id": "attractive-revision",
   "metadata": {},
   "source": []
  },
  {
   "cell_type": "code",
   "execution_count": null,
   "id": "aquatic-richardson",
   "metadata": {
    "ExecuteTime": {
     "start_time": "2023-11-06T18:53:58.538757800Z"
    }
   },
   "outputs": [],
   "source": []
  },
  {
   "cell_type": "markdown",
   "id": "searching-funeral",
   "metadata": {},
   "source": []
  },
  {
   "cell_type": "code",
   "execution_count": null,
   "id": "english-titanium",
   "metadata": {
    "ExecuteTime": {
     "start_time": "2023-11-06T18:53:58.538757800Z"
    }
   },
   "outputs": [],
   "source": []
  },
  {
   "cell_type": "markdown",
   "id": "prospective-joining",
   "metadata": {},
   "source": []
  },
  {
   "cell_type": "code",
   "execution_count": null,
   "id": "indonesian-singing",
   "metadata": {
    "ExecuteTime": {
     "start_time": "2023-11-06T18:53:58.546926600Z"
    }
   },
   "outputs": [],
   "source": []
  },
  {
   "cell_type": "markdown",
   "id": "small-encoding",
   "metadata": {},
   "source": []
  },
  {
   "cell_type": "markdown",
   "id": "following-contrary",
   "metadata": {},
   "source": []
  },
  {
   "cell_type": "code",
   "execution_count": null,
   "id": "saved-hands",
   "metadata": {
    "ExecuteTime": {
     "start_time": "2023-11-06T18:53:58.546926600Z"
    }
   },
   "outputs": [],
   "source": []
  },
  {
   "cell_type": "markdown",
   "id": "egyptian-korea",
   "metadata": {},
   "source": []
  },
  {
   "cell_type": "markdown",
   "id": "limited-interstate",
   "metadata": {},
   "source": []
  },
  {
   "cell_type": "markdown",
   "id": "fallen-surprise",
   "metadata": {},
   "source": [
    "\n"
   ]
  },
  {
   "cell_type": "markdown",
   "id": "capital-internship",
   "metadata": {},
   "source": []
  },
  {
   "cell_type": "code",
   "execution_count": null,
   "id": "helpful-zambia",
   "metadata": {
    "ExecuteTime": {
     "start_time": "2023-11-06T18:53:58.546926600Z"
    }
   },
   "outputs": [],
   "source": []
  },
  {
   "cell_type": "markdown",
   "id": "dirty-multiple",
   "metadata": {},
   "source": []
  },
  {
   "cell_type": "code",
   "execution_count": null,
   "id": "beneficial-mainland",
   "metadata": {
    "ExecuteTime": {
     "start_time": "2023-11-06T18:53:58.554029300Z"
    }
   },
   "outputs": [],
   "source": []
  },
  {
   "cell_type": "markdown",
   "id": "christian-madrid",
   "metadata": {},
   "source": [
    "\n"
   ]
  },
  {
   "cell_type": "code",
   "execution_count": null,
   "id": "former-frost",
   "metadata": {
    "ExecuteTime": {
     "start_time": "2023-11-06T18:53:58.554029300Z"
    }
   },
   "outputs": [],
   "source": []
  },
  {
   "cell_type": "code",
   "execution_count": null,
   "id": "spare-honduras",
   "metadata": {
    "ExecuteTime": {
     "start_time": "2023-11-06T18:53:58.554029300Z"
    }
   },
   "outputs": [],
   "source": []
  },
  {
   "cell_type": "markdown",
   "id": "instructional-finnish",
   "metadata": {},
   "source": [
    "## Under the Hood\n",
    "\n",
    "This section contains additional information about the functions we've used and pointers to their documentation.\n",
    "\n",
    "You don't need to know anything in this section, so if you are already feeling overwhelmed, you might want to skip it.\n",
    "But if you are curious, read on."
   ]
  },
  {
   "cell_type": "markdown",
   "id": "quick-citizen",
   "metadata": {},
   "source": [
    "`State` and `TimeSeries` objects are based on the `Series` object defined by the Pandas library.\n",
    "The documentation is at <https://pandas.pydata.org/pandas-docs/stable/reference/api/pandas.Series.html>.\n",
    "\n",
    "`Series` objects provide their own `plot` function, which is why we call it like this:\n",
    "\n",
    "```\n",
    "results.plot()\n",
    "```\n",
    "\n",
    "Instead of like this:\n",
    "\n",
    "```\n",
    "plot(results)\n",
    "```\n",
    "\n",
    "You can read the documentation of `Series.plot` at <https://pandas.pydata.org/pandas-docs/stable/reference/api/pandas.Series.plot.html>."
   ]
  },
  {
   "cell_type": "markdown",
   "id": "digital-stretch",
   "metadata": {},
   "source": [
    "`decorate` is based on Matplotlib, which is a widely used plotting library for Python.  Matplotlib provides separate functions for `title`, `xlabel`, and `ylabel`.\n",
    "`decorate` makes them a little easier to use.\n",
    "For the list of keyword arguments you can pass to `decorate`, see <https://matplotlib.org/3.2.2/api/axes_api.html?highlight=axes#module-matplotlib.axes>.\n",
    "\n",
    "The `flip` function uses NumPy's `random` function to generate a random number between 0 and 1, then returns `True` or `False` with the given probability.\n",
    "\n",
    "You can get the source code for `flip` (or any other function) by running the following cell."
   ]
  },
  {
   "cell_type": "code",
   "execution_count": null,
   "id": "agricultural-midwest",
   "metadata": {
    "ExecuteTime": {
     "start_time": "2023-11-06T18:53:58.554029300Z"
    }
   },
   "outputs": [],
   "source": [
    "source_code(flip)"
   ]
  },
  {
   "cell_type": "code",
   "execution_count": null,
   "id": "junior-lindsay",
   "metadata": {
    "ExecuteTime": {
     "start_time": "2023-11-06T18:53:58.562059100Z"
    }
   },
   "outputs": [],
   "source": []
  },
  {
   "cell_type": "code",
   "execution_count": null,
   "outputs": [],
   "source": [],
   "metadata": {
    "collapsed": false,
    "ExecuteTime": {
     "start_time": "2023-11-06T18:53:58.562059100Z"
    }
   },
   "id": "9c2ef8f0c1c32f7"
  }
 ],
 "metadata": {
  "celltoolbar": "Tags",
  "kernelspec": {
   "display_name": "Python 3 (ipykernel)",
   "language": "python",
   "name": "python3"
  },
  "language_info": {
   "codemirror_mode": {
    "name": "ipython",
    "version": 3
   },
   "file_extension": ".py",
   "mimetype": "text/x-python",
   "name": "python",
   "nbconvert_exporter": "python",
   "pygments_lexer": "ipython3",
   "version": "3.10.6"
  }
 },
 "nbformat": 4,
 "nbformat_minor": 5
}
